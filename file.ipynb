{
 "cells": [
  {
   "cell_type": "code",
   "execution_count": 33,
   "metadata": {},
   "outputs": [],
   "source": [
    "#remove </a> and br tags from file.txt and save it to final1.txt\n",
    "with open('file.txt', 'r') as file:\n",
    "    text = file.read()\n",
    "    text = text.replace('</a>', '')\n",
    "    text = text.replace('<br>', '')\n",
    "    with open('final1.txt', 'w') as file:\n",
    "        file.write(text)"
   ]
  },
  {
   "cell_type": "code",
   "execution_count": 42,
   "metadata": {},
   "outputs": [],
   "source": [
    "#remove only <,> and </> tags from final1.txt and save it to final2.txt\n",
    "with open('final1.txt', 'r') as file:\n",
    "    text = file.read()\n",
    "    text = text.replace('<', '')\n",
    "    text = text.replace('>', '')\n",
    "    text = text.replace('/', '')\n",
    "    text = text.replace('h2', '')\n",
    "    text = text.replace('New York', '')\n",
    "    text = text.replace('USA', '')\n",
    "\n",
    "\n",
    "\n",
    "    with open('final2.txt', 'w') as file:\n",
    "        file.write(text)"
   ]
  },
  {
   "cell_type": "code",
   "execution_count": 43,
   "metadata": {},
   "outputs": [],
   "source": [
    "#remove New York from final2.txt and save it to final3.txt\n",
    "with open('final2.txt', 'r') as file:\n",
    "    text = file.read()\n",
    "    text = text.replace('New York', '')\n",
    "    with open('final3.txt', 'w') as file:\n",
    "        file.write(text)"
   ]
  },
  {
   "cell_type": "code",
   "execution_count": 50,
   "metadata": {},
   "outputs": [
    {
     "name": "stdout",
     "output_type": "stream",
     "text": [
      "['email', ' INFO@APMMODELS.COM', ' info@crawfordmodels.com', ' submission.men@dnamodels.com', ' becomeelite@elitemodels.com', ' fm@fentonmodels.com', ' ny@fordmodels.com', ' INFO@FUSIONMODELSNYC.COM', ' info@heroesmodels.com', ' lori@iconicfocus.com', ' contact@theidentitymodels.com', 'jag@jagmodels.com', ' info@majormodel.com', ' info@marilyn-ny.com', ' info@musenyc.com', 'INFO@NEWYORKMODELS.COM', ' info@onemanagement.com', ' nyc@qmanagementinc.com', 'info@soulartistmanagement.com', ' NYC@STATEMGMT.COM', ' info@suprememanagement.com', ' infoNY@theindustrymodelmgmt.com', ' info@thelionsny.com', ' info@thesocietymanagement.com', ' info@vnymodels.com', ' info@28models.com', ' info@bicoastalmgmt.com', ' Newyork@bmgmodels.com', ' info@bridgeagency.com', ' info@canvasmgt.com', ' info@carasmanagement.com', ' info@emgmodels.com', ' hi@mondaysmgmt.com', ' andrew@newiconny.com', ' joe@newscoutingmanagement.com', ' info@officialmodelsny.com', ' hello@remademgmt.com', ' info@strutmodels.com', ' info@themodelcoop.com', ' info@wespeakmodels.com', ' casting@almodelsny.com', ' casting@almodelsny.com', ' info@anthm.agency', ' info@thecalibermodels.com', ' inquire@claudemodelmanagement.com', ' info@communitynewyork.com', ' info@covenmanagement.com', ' info@curvmgmt.com', ' hello@dreamlandagency.com', ' info@ethosmodels.com', ' Focusmgmt01@gmail.com', ' geneticsnyc@gmail.com', ' hello@hello-mgmt.com', ' info@kevmgmt.com', ' info@kollektiv-mgmt.com', ' info@lipps.la', ' scout@matrisopus.com', ' bookings@noagency.nyc', ' info@nova-management.com', ' partsmodels@aol.com', ' studio@rickymichiels.com', 'info@ascoutshonour.com', ' info@themanagementnyc.com', ' info@theoutfitnewyork.com', ' info@TRUEmodel.net', 'team@unite-unite.com', ' info@vieagency.com', ' info@wilsonmodelmgmt.com', ' info@yaniimodels.com', 'CONTACT@SKORPIONMGMT.COM']\n"
     ]
    }
   ],
   "source": [
    "# get emails from agencies.csv and put them in a list\n",
    "import csv\n",
    "with open('agencies.csv', 'r') as file:\n",
    "    reader = csv.reader(file)\n",
    "    emails = []\n",
    "    for row in reader:\n",
    "        emails.append(row[1])\n",
    "    print(emails)\n",
    "\n",
    "\n"
   ]
  }
 ],
 "metadata": {
  "kernelspec": {
   "display_name": "Python 3.x",
   "language": "python",
   "name": "python3"
  },
  "language_info": {
   "codemirror_mode": {
    "name": "ipython",
    "version": 3
   },
   "file_extension": ".py",
   "mimetype": "text/x-python",
   "name": "python",
   "nbconvert_exporter": "python",
   "pygments_lexer": "ipython3",
   "version": "3.9.6"
  },
  "orig_nbformat": 4,
  "vscode": {
   "interpreter": {
    "hash": "31f2aee4e71d21fbe5cf8b01ff0e069b9275f58929596ceb00d14d90e3e16cd6"
   }
  }
 },
 "nbformat": 4,
 "nbformat_minor": 2
}

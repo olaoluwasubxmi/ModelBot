{
 "cells": [
  {
   "cell_type": "code",
   "execution_count": 2,
   "metadata": {},
   "outputs": [
    {
     "name": "stdout",
     "output_type": "stream",
     "text": [
      "Sent to silentmodels\n"
     ]
    }
   ],
   "source": [
    "import smtplib, ssl\n",
    "import imghdr\n",
    "import imghdr\n",
    "from email.message import EmailMessage\n",
    "import csv\n",
    "\n",
    "port = 587  # For starttls\n",
    "smtp_server = \"smtp.gmail.com\"\n",
    "login = \"i@olaoluwasubomi.com\"\n",
    "password = input(\"Type your password and press enter:\")\n",
    "\n",
    "message = \"\"\"Subject: Model Submissions\n",
    "To: {recipient}\n",
    "From: {sender}\n",
    "\n",
    "Hi {name}, \n",
    "My Name is Olaoluwasubomi Aduloju\n",
    "I Live in Brooklyn, NY\n",
    "I am 6'05 Ft Tall\n",
    "I am 18 Years Old\n",
    "Sophomore in College\n",
    "Waist is 29.5\n",
    "Shoe Size is 43.5\n",
    "instagram: @subxmi\n",
    "twitter @sxbxmi\n",
    "tiktok @subospersona\n",
    "Here is the dropbox link to my portfolio I wish you all a wonderful day :)\n",
    "https://www.dropbox.com/sh/lq054sfrr8fi6f8/AAA0WvU4nC8tEkBVmqlBk66ia?dl=0\n",
    "I will aslo send another email with my photos attached\n",
    "\"\"\"\n",
    "\n",
    "sender = \"i@olaoluwasubomi.com\"\n",
    "\n",
    "\n",
    "\n",
    "\n",
    "context = ssl.create_default_context()\n",
    "with smtplib.SMTP(smtp_server, port) as server:\n",
    "    server.connect('smtp.gmail.com', '587')\n",
    "    server.ehlo()  # Can be omitted\n",
    "    server.starttls(context=context)\n",
    "    server.ehlo()  # Can be omitted   \n",
    "    server.login(login, password)\n",
    "    \n",
    "    with open(\"OUIOUI.csv\") as file:\n",
    "            reader = csv.reader(file)\n",
    "            next(reader)  # it skips the header row\n",
    "            for name, email in reader:\n",
    "                    server.sendmail(\n",
    "                    sender,\n",
    "                    email,\n",
    "                    message.format(name=name, recipient=email, sender=sender)\n",
    "                )\n",
    "            print(f'Sent to {name}')\n",
    "\n",
    "\n",
    "\n",
    "with open('OUIOUI.csv', 'r') as file:\n",
    "    reader = csv.reader(file)\n",
    "    agency_emails = []\n",
    "    for row in reader:\n",
    "        agency_emails.append(row[1])\n",
    "    print(agency_emails)\n",
    "\n",
    "\n",
    "\n",
    "\n",
    "\n"
   ]
  },
  {
   "cell_type": "code",
   "execution_count": 3,
   "metadata": {},
   "outputs": [
    {
     "name": "stdout",
     "output_type": "stream",
     "text": [
      "['email', 'info@fordmodels.fr', 'info@ouimanagement.com', 'booking@rockmen.fr', 'pa@safemgmt.com', 'men@successmodels.com', 'info@viva-paris.com', 'info@city-models.com', 'hello@cover.paris', 'info@elytiz.com', 'info@silentmodels.com']\n"
     ]
    }
   ],
   "source": [
    "\n",
    "\n",
    "\n"
   ]
  }
 ],
 "metadata": {
  "kernelspec": {
   "display_name": "Python 3.9.12 ('base')",
   "language": "python",
   "name": "python3"
  },
  "language_info": {
   "codemirror_mode": {
    "name": "ipython",
    "version": 3
   },
   "file_extension": ".py",
   "mimetype": "text/x-python",
   "name": "python",
   "nbconvert_exporter": "python",
   "pygments_lexer": "ipython3",
   "version": "3.9.12"
  },
  "orig_nbformat": 4,
  "vscode": {
   "interpreter": {
    "hash": "40d3a090f54c6569ab1632332b64b2c03c39dcf918b08424e98f38b5ae0af88f"
   }
  }
 },
 "nbformat": 4,
 "nbformat_minor": 2
}
